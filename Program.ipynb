{
 "cells": [
  {
   "cell_type": "code",
   "execution_count": 1,
   "metadata": {},
   "outputs": [
    {
     "name": "stderr",
     "output_type": "stream",
     "text": [
      "d:\\Coding\\anaconda\\lib\\site-packages\\pandas\\core\\computation\\expressions.py:21: UserWarning: Pandas requires version '2.8.4' or newer of 'numexpr' (version '2.8.1' currently installed).\n",
      "  from pandas.core.computation.check import NUMEXPR_INSTALLED\n",
      "d:\\Coding\\anaconda\\lib\\site-packages\\pandas\\core\\arrays\\masked.py:60: UserWarning: Pandas requires version '1.3.6' or newer of 'bottleneck' (version '1.3.4' currently installed).\n",
      "  from pandas.core import (\n"
     ]
    },
    {
     "name": "stdout",
     "output_type": "stream",
     "text": [
      "Excel file successfully read.\n"
     ]
    },
    {
     "name": "stderr",
     "output_type": "stream",
     "text": [
      "d:\\Coding\\Python\\MLB Player Comp\\Functions.py:188: FutureWarning: Downcasting object dtype arrays on .fillna, .ffill, .bfill is deprecated and will change in a future version. Call result.infer_objects(copy=False) instead. To opt-in to the future behavior, set `pd.set_option('future.no_silent_downcasting', True)`\n",
      "  df.fillna(0)\n"
     ]
    },
    {
     "name": "stdout",
     "output_type": "stream",
     "text": [
      "Blair Henley, P, Houston Astros:\n",
      "Production:\n",
      "  1 Games Played,   0.1 Innings Pitched.\n",
      "Efficiency:\n",
      "  135.0 ERA,   0.0 Strikeouts.\n",
      "Results:\n",
      "  0.0 Wins,   0.0 Losses,   0.0 Saves,   0.0 Blown Saves.\n",
      "\n",
      "Matt Koch, P, Colorado Rockies:\n",
      "Production:\n",
      "  2 Games Played (1),   0.1 Innings Pitched (0.0).\n",
      "Efficiency:\n",
      "  81.0 ERA (-54.0),   0.0 Strikeouts (0.0).\n",
      "Results:\n",
      "  0.0 Wins (0.0),   0.0 Losses (0.0),   1.0 Saves (1.0),   0.0 Blown Saves (0.0).\n",
      "\n",
      "Lucas Gilbreath, R, Colorado Rockies:\n",
      "Production:\n",
      "  3 Games Played (2),   1.0 Innings Pitched (0.9).\n",
      "Efficiency:\n",
      "  54.0 ERA (-81.0),   0.0 Strikeouts (0.0).\n",
      "Results:\n",
      "  0.0 Wins (0.0),   0.0 Losses (0.0),   0.0 Saves (0.0),   0.0 Blown Saves (0.0).\n",
      "\n",
      "Andrew Saalfrank, P, Arizona Diamondbacks:\n",
      "Production:\n",
      "  2 Games Played (1),   1.0 Innings Pitched (0.9).\n",
      "Efficiency:\n",
      "  36.0 ERA (-99.0),   0.0 Strikeouts (0.0).\n",
      "Results:\n",
      "  0.0 Wins (0.0),   0.0 Losses (0.0),   0.0 Saves (0.0),   0.0 Blown Saves (0.0).\n",
      "\n",
      "Seth Johnson, R, Philadelphia Phillies:\n",
      "Production:\n",
      "  1 Games Played (0),   2.1 Innings Pitched (2.0).\n",
      "Efficiency:\n",
      "  34.71 ERA (-100.29),   0.0 Strikeouts (0.0).\n",
      "Results:\n",
      "  0.0 Wins (0.0),   1.0 Losses (1.0),   0.0 Saves (0.0),   0.0 Blown Saves (0.0).\n",
      "\n",
      "Brady Feigl, R, Pittsburgh Pirates:\n",
      "Production:\n",
      "  1 Games Played (0),   1.2 Innings Pitched (1.1).\n",
      "Efficiency:\n",
      "  32.4 ERA (-102.6),   0.0 Strikeouts (0.0).\n",
      "Results:\n",
      "  0.0 Wins (0.0),   0.0 Losses (0.0),   0.0 Saves (0.0),   0.0 Blown Saves (0.0).\n",
      "\n"
     ]
    }
   ],
   "source": [
    "from Functions import *"
   ]
  },
  {
   "cell_type": "code",
   "execution_count": 10,
   "metadata": {},
   "outputs": [
    {
     "name": "stdout",
     "output_type": "stream",
     "text": [
      "Matt Duffy, IF, Kansas City Royals:\n",
      "Production:\n",
      "  4 Games Played,   0.0 Homeruns,   1.0 Strikeouts.\n",
      "Efficiency:\n",
      "  0.286 BA,   0.786 OPS.\n",
      "Results:\n",
      "  0.0 Steals,   2.0 Runs,   0.0 RBIs.\n",
      "\n",
      "Hunter Feduccia, C, Los Angeles Dodgers:\n",
      "Production:\n",
      "  5 Games Played (1),   0.0 Homeruns (0.0),   2.0 Strikeouts (1.0).\n",
      "Efficiency:\n",
      "  0.333 BA (0.047),   0.762 OPS (-0.024).\n",
      "Results:\n",
      "  0.0 Steals (0.0),   2.0 Runs (0.0),   1.0 RBIs (1.0).\n",
      "\n",
      "Michael Helman, IF, Minnesota Twins:\n",
      "Production:\n",
      "  9 Games Played (5),   0.0 Homeruns (0.0),   3.0 Strikeouts (2.0).\n",
      "Efficiency:\n",
      "  0.3 BA (0.014),   0.8 OPS (0.014).\n",
      "Results:\n",
      "  0.0 Steals (0.0),   2.0 Runs (0.0),   0.0 RBIs (0.0).\n",
      "\n",
      "Orelvis Martinez, IF, Toronto Blue Jays:\n",
      "Production:\n",
      "  1 Games Played (-3),   0.0 Homeruns (0.0),   1.0 Strikeouts (0.0).\n",
      "Efficiency:\n",
      "  0.333 BA (0.047),   0.666 OPS (-0.12).\n",
      "Results:\n",
      "  0.0 Steals (0.0),   0.0 Runs (-2.0),   0.0 RBIs (0.0).\n",
      "\n",
      "Diego Castillo, IF, Arizona Diamondbacks:\n",
      "Production:\n",
      "  4 Games Played (0),   0.0 Homeruns (0.0),   1.0 Strikeouts (0.0).\n",
      "Efficiency:\n",
      "  0.333 BA (0.047),   1.0 OPS (0.214).\n",
      "Results:\n",
      "  0.0 Steals (0.0),   3.0 Runs (1.0),   2.0 RBIs (2.0).\n",
      "\n",
      "Cade Marlowe, OF, Seattle Mariners:\n",
      "Production:\n",
      "  8 Games Played (4),   0.0 Homeruns (0.0),   1.0 Strikeouts (0.0).\n",
      "Efficiency:\n",
      "  0.25 BA (-0.036),   0.583 OPS (-0.203).\n",
      "Results:\n",
      "  0.0 Steals (0.0),   1.0 Runs (-1.0),   0.0 RBIs (0.0).\n",
      "\n"
     ]
    },
    {
     "name": "stderr",
     "output_type": "stream",
     "text": [
      "d:\\Coding\\Python\\MLB Player Comp\\Functions.py:188: FutureWarning: Downcasting object dtype arrays on .fillna, .ffill, .bfill is deprecated and will change in a future version. Call result.infer_objects(copy=False) instead. To opt-in to the future behavior, set `pd.set_option('future.no_silent_downcasting', True)`\n",
      "  df.fillna(0)\n"
     ]
    }
   ],
   "source": [
    "# enter name of player here\n",
    "findSimilar('matt duffy')"
   ]
  }
 ],
 "metadata": {
  "kernelspec": {
   "display_name": "base",
   "language": "python",
   "name": "python3"
  },
  "language_info": {
   "codemirror_mode": {
    "name": "ipython",
    "version": 3
   },
   "file_extension": ".py",
   "mimetype": "text/x-python",
   "name": "python",
   "nbconvert_exporter": "python",
   "pygments_lexer": "ipython3",
   "version": "3.9.12"
  }
 },
 "nbformat": 4,
 "nbformat_minor": 2
}
